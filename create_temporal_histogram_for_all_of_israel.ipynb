{
 "cells": [
  {
   "cell_type": "code",
   "execution_count": null,
   "metadata": {},
   "outputs": [],
   "source": [
    "from extract_alert_data import date_times,locations,all_locations_unique,location_alert_distribution\n",
    "import numpy as np\n",
    "import numpy.typing as npt\n",
    "import matplotlib.pyplot as plt\n",
    "import matplotlib\n",
    "import datetime"
   ]
  },
  {
   "cell_type": "code",
   "execution_count": null,
   "metadata": {},
   "outputs": [],
   "source": [
    "def draw_polar_hist(vals,bins):\n",
    "    import numpy as np\n",
    "    import matplotlib.pyplot as plt\n",
    "\n",
    "    hist_vals = np.histogram(vals,bins)[0]\n",
    "\n",
    "    if type(bins) == int:\n",
    "        N = bins\n",
    "    else:\n",
    "        N = len(bins)-1\n",
    "    bottom = 5\n",
    "    max_height = 4\n",
    "\n",
    "    theta = np.linspace(np.pi/2, np.pi/2-2 * np.pi, N, endpoint=False)\n",
    "    radii = max_height*hist_vals/np.max(hist_vals)\n",
    "    width = (2*np.pi) / N\n",
    "\n",
    "    ax = plt.subplot(111, polar=True)\n",
    "    bars = ax.bar(theta, radii, width=width, bottom=bottom)\n",
    "\n",
    "    # Use custom colors and opacity\n",
    "    for r, bar in zip(radii, bars):\n",
    "        bar.set_facecolor(plt.cm.jet(r / 10.))\n",
    "        bar.set_alpha(0.8)\n",
    "\n",
    "def draw_minuets_hist(vals):\n",
    "    bins = np.arange(-0.5,60.5,1)\n",
    "    draw_polar_hist(vals,bins)\n",
    "\n",
    "def draw_hours_hist(vals,num_minuets_in_bin=5):\n",
    "    bins = np.arange(-0.5,60*24+0.5,num_minuets_in_bin)\n",
    "    draw_polar_hist(vals,bins)"
   ]
  },
  {
   "cell_type": "code",
   "execution_count": null,
   "metadata": {},
   "outputs": [],
   "source": [
    "matplotlib.rcParams.update({'font.size': 25})\n",
    "plt.figure(figsize=(9,9))\n",
    "times = [dt.minute  for dt in date_times]\n",
    "draw_minuets_hist(times)\n",
    "plt.xticks([0,np.pi/2,np.pi,3*np.pi/2],[\"15\",\"0\",\"45\",\"30\"])\n",
    "plt.yticks([])\n",
    "plt.savefig(\"temp2.png\",dpi=300)\n"
   ]
  },
  {
   "cell_type": "code",
   "execution_count": null,
   "metadata": {},
   "outputs": [],
   "source": [
    "matplotlib.rcParams.update({'font.size': 15})\n",
    "plt.figure(figsize=(7,7))\n",
    "times = [dt.minute + dt.hour*60  for dt in date_times]\n",
    "draw_hours_hist(times,num_minuets_in_bin=5)\n",
    "plt.xticks(np.arange(0,2*np.pi,np.pi/12),[f\"{t:02d}:00\" for t in np.arange(6,6-24,-1)%24])\n",
    "plt.yticks([])\n",
    "plt.savefig(\"temp.png\",dpi=300)"
   ]
  }
 ],
 "metadata": {
  "kernelspec": {
   "display_name": "Python 3",
   "language": "python",
   "name": "python3"
  },
  "language_info": {
   "codemirror_mode": {
    "name": "ipython",
    "version": 3
   },
   "file_extension": ".py",
   "mimetype": "text/x-python",
   "name": "python",
   "nbconvert_exporter": "python",
   "pygments_lexer": "ipython3",
   "version": "3.10.1"
  }
 },
 "nbformat": 4,
 "nbformat_minor": 2
}
